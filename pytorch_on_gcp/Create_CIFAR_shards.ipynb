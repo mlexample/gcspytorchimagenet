{
  "nbformat": 4,
  "nbformat_minor": 0,
  "metadata": {
    "colab": {
      "name": "TPU1VM-Blog-CreateCIFARshards.ipynb",
      "provenance": []
    },
    "kernelspec": {
      "name": "python3",
      "display_name": "Python 3"
    },
    "language_info": {
      "name": "python"
    }
  },
  "cells": [
    {
      "cell_type": "markdown",
      "metadata": {
        "id": "qHtYXGO7lr75"
      },
      "source": [
        "# Create CIFAR10 shards"
      ]
    },
    {
      "cell_type": "code",
      "metadata": {
        "id": "LgebGLa8levP"
      },
      "source": [
        "!pip install webdataset"
      ],
      "execution_count": null,
      "outputs": []
    },
    {
      "cell_type": "code",
      "metadata": {
        "id": "W0pgJukBlwat"
      },
      "source": [
        "import torchvision\n",
        "import webdataset as wds\n",
        "from sklearn.model_selection import train_test_split\n",
        "from pathlib import Path\n",
        "import sys"
      ],
      "execution_count": null,
      "outputs": []
    },
    {
      "cell_type": "markdown",
      "metadata": {
        "id": "xdtIJvJSlx6G"
      },
      "source": [
        "### Download train and test set\n",
        "* Loop Train set 26 times to get 1,300,000 train samples\n",
        "* Loop Test set 10 times to get 100,000 test samples"
      ]
    },
    {
      "cell_type": "code",
      "metadata": {
        "id": "G2IU9ADrlzv8"
      },
      "source": [
        "train_list = []\n",
        "\n",
        "for x in range(26):\n",
        "    trainset = torchvision.datasets.CIFAR10(root=\"./\", train=True, download=True)\n",
        "    train_list.extend(trainset)\n",
        "\n",
        "print(\"Size of train_list:\",sys.getsizeof(train_list))\n",
        "print(\"Length of train_list:\",len(train_list))"
      ],
      "execution_count": null,
      "outputs": []
    },
    {
      "cell_type": "code",
      "metadata": {
        "id": "SxjhB0_Bl2H_"
      },
      "source": [
        "test_list = []\n",
        "\n",
        "for x in range(10):\n",
        "    testset = torchvision.datasets.CIFAR10(root=\"./\", train=False, download=True)\n",
        "    test_list.extend(testset)\n",
        "    \n",
        "print(\"Size of test_list:\",sys.getsizeof(test_list))\n",
        "print(\"Length of test_list:\",len(test_list))"
      ],
      "execution_count": null,
      "outputs": []
    },
    {
      "cell_type": "markdown",
      "metadata": {
        "id": "g4hue4Qsl5Q5"
      },
      "source": [
        "## Create Tar Shards"
      ]
    },
    {
      "cell_type": "markdown",
      "metadata": {
        "id": "EHDh9C5SmlA2"
      },
      "source": [
        "Create local path for storing shards"
      ]
    },
    {
      "cell_type": "code",
      "metadata": {
        "id": "sVWg5zy_l2Ao"
      },
      "source": [
        "output_pth = \"cifar-shards\"\n",
        "Path(output_pth).mkdir(parents=True, exist_ok=True)\n",
        "Path(output_pth + \"/train\").mkdir(parents=True, exist_ok=True)\n",
        "Path(output_pth + \"/val\").mkdir(parents=True, exist_ok=True)"
      ],
      "execution_count": null,
      "outputs": []
    },
    {
      "cell_type": "markdown",
      "metadata": {
        "id": "_DUTvpemmpt7"
      },
      "source": [
        "Write sharded tar files; 2,000 samples per shard"
      ]
    },
    {
      "cell_type": "code",
      "metadata": {
        "id": "em__dalwl12o"
      },
      "source": [
        "output_pth = \"cifar-shards\"\n",
        "\n",
        "for name in [(train_list, \"train\"), (test_list, \"val\")]:\n",
        "    with wds.ShardWriter(\n",
        "        output_pth + \"/\" + str(name[1]) + \"/\" + \"cifar-\" + str(name[1]) + \"-%06d.tar\",\n",
        "        maxcount=2000,\n",
        "    ) as sink:\n",
        "        for index, (image, cls) in enumerate(name[0]):\n",
        "            sink.write(\n",
        "                {\"__key__\": \"%07d\" % index, \"ppm\": image, \"cls\": cls}\n",
        "            )"
      ],
      "execution_count": null,
      "outputs": []
    },
    {
      "cell_type": "markdown",
      "metadata": {
        "id": "oPyQ_4rlm3kU"
      },
      "source": [
        "Copy shards to your GCS bucket"
      ]
    },
    {
      "cell_type": "code",
      "metadata": {
        "id": "gRVzI2Mal-Xg"
      },
      "source": [
        "!gsutil -m cp -r cifar-shards/val gs:// # TODO: Add your GCS bucket location"
      ],
      "execution_count": null,
      "outputs": []
    },
    {
      "cell_type": "code",
      "metadata": {
        "id": "tQOrAaAxjCER"
      },
      "source": [
        "!gsutil -m cp -r cifar-shards/train gs:// # TODO: Add your GCS bucket location"
      ],
      "execution_count": null,
      "outputs": []
    }
  ]
}
